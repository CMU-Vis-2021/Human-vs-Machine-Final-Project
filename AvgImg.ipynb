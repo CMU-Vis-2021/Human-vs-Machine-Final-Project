{
 "cells": [
  {
   "cell_type": "code",
   "execution_count": 23,
   "id": "77244cbd",
   "metadata": {},
   "outputs": [
    {
     "name": "stdout",
     "output_type": "stream",
     "text": [
      "['dog-stylized-trucks.png', 'dog-stylized-tiger.png', 'dog-stylized-zebra.png']\n",
      "dog-stylized-trucks.png\n"
     ]
    }
   ],
   "source": [
    "import os, numpy, PIL\n",
    "from PIL import Image\n",
    "import cv2\n",
    "\n",
    "path = \"./heatmaps/dog/\"\n",
    "# Access all PNG files in directory\n",
    "allfiles=os.listdir(path)\n",
    "print(allfiles)\n",
    "# imlist=[filename for filename in allfiles if filename[-4:] in [\".png\",\".PNG\"]]\n",
    "imlist = allfiles\n",
    "print(imlist[0])\n",
    "\n",
    "# Assuming all images are the same size, get dimensions of first image\n",
    "imgpath = path + imlist[0]\n",
    "\n",
    "w,h=Image.open(imgpath).size\n",
    "N=len(imlist)\n",
    "\n",
    "# Create a numpy array of floats to store the average (assume RGB images)\n",
    "arr=numpy.zeros((h,w,3),numpy.float)\n",
    "\n",
    "# Build up average pixel intensities, casting each image as an array of floats\n",
    "for im in imlist:\n",
    "    src = cv2.imread(path+im)\n",
    "#     imarr=numpy.array(Image.open(path+im),dtype=numpy.float)\n",
    "    img=cv2.cvtColor(src, cv2.COLOR_BGRA2RGB);\n",
    "    arr=arr+img/N\n",
    "\n",
    "# Round values in array and cast as 8-bit integer\n",
    "arr=numpy.array(numpy.round(arr),dtype=numpy.uint8)\n",
    "\n",
    "# Generate, save and preview final image\n",
    "out=Image.fromarray(arr,mode=\"RGB\")\n",
    "out.save(\"Average.png\")\n",
    "out.show()"
   ]
  },
  {
   "cell_type": "code",
   "execution_count": null,
   "id": "462446ec",
   "metadata": {},
   "outputs": [],
   "source": []
  }
 ],
 "metadata": {
  "kernelspec": {
   "display_name": "Python 3 (ipykernel)",
   "language": "python",
   "name": "python3"
  },
  "language_info": {
   "codemirror_mode": {
    "name": "ipython",
    "version": 3
   },
   "file_extension": ".py",
   "mimetype": "text/x-python",
   "name": "python",
   "nbconvert_exporter": "python",
   "pygments_lexer": "ipython3",
   "version": "3.8.9"
  }
 },
 "nbformat": 4,
 "nbformat_minor": 5
}
